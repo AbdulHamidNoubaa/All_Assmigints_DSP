{
 "cells": [
  {
   "cell_type": "markdown",
   "metadata": {},
   "source": [
    "# مساحة الدائرة"
   ]
  },
  {
   "cell_type": "code",
   "execution_count": 6,
   "metadata": {},
   "outputs": [
    {
     "name": "stdout",
     "output_type": "stream",
     "text": [
      "Enter TheNumber: 5\n",
      "78.5\n"
     ]
    }
   ],
   "source": [
    " R = float(input(\"Enter TheNumber: \"))\n",
    "pi = 3.14\n",
    "area = pi * (R *R)\n",
    "print(area)"
   ]
  },
  {
   "cell_type": "markdown",
   "metadata": {},
   "source": [
    "# محيط الدائرة"
   ]
  },
  {
   "cell_type": "code",
   "execution_count": 8,
   "metadata": {},
   "outputs": [
    {
     "name": "stdout",
     "output_type": "stream",
     "text": [
      "Enter TheNumber: 3\n",
      "9.42\n"
     ]
    }
   ],
   "source": [
    "rd = float(input(\"Enter TheNumber: \"))\n",
    "pi = 3.14\n",
    "ocen = rd * pi \n",
    "print(ocen)"
   ]
  },
  {
   "cell_type": "markdown",
   "metadata": {},
   "source": [
    "# مساحة ومحيط المستطيل"
   ]
  },
  {
   "cell_type": "code",
   "execution_count": 33,
   "metadata": {},
   "outputs": [
    {
     "name": "stdout",
     "output_type": "stream",
     "text": [
      "Enter the length of the rectangle: 4\n",
      "Enter the width of the rectangle: 7\n",
      "28.0\n"
     ]
    }
   ],
   "source": [
    "lenght_rec = float(input(\"Enter the length of the rectangle: \"))\n",
    "dis_rec = float(input(\"Enter the width of the rectangle: \"))\n",
    "area_rec = (lenght_rec * dis_rec)\n",
    "print(area_rec)"
   ]
  },
  {
   "cell_type": "markdown",
   "metadata": {},
   "source": [
    "# محيط المستطيل"
   ]
  },
  {
   "cell_type": "code",
   "execution_count": 32,
   "metadata": {},
   "outputs": [
    {
     "name": "stdout",
     "output_type": "stream",
     "text": [
      "Enter the length of the rectangle: 4\n",
      "Enter the width of the rectangle: 8\n",
      "24.0\n"
     ]
    }
   ],
   "source": [
    "lenght_rec = float(input(\"Enter the length of the rectangle: \"))\n",
    "dis_rec = float(input(\"Enter the width of the rectangle: \"))\n",
    "area_rec = 2*(lenght_rec + dis_rec)\n",
    "print(area_rec)"
   ]
  },
  {
   "cell_type": "code",
   "execution_count": 34,
   "metadata": {},
   "outputs": [
    {
     "name": "stdout",
     "output_type": "stream",
     "text": [
      "Hello:9\n"
     ]
    }
   ],
   "source": [
    "o = input(\"Hello:\")"
   ]
  },
  {
   "cell_type": "code",
   "execution_count": null,
   "metadata": {},
   "outputs": [],
   "source": []
  }
 ],
 "metadata": {
  "kernelspec": {
   "display_name": "Python 3",
   "language": "python",
   "name": "python3"
  },
  "language_info": {
   "codemirror_mode": {
    "name": "ipython",
    "version": 3
   },
   "file_extension": ".py",
   "mimetype": "text/x-python",
   "name": "python",
   "nbconvert_exporter": "python",
   "pygments_lexer": "ipython3",
   "version": "3.7.6"
  }
 },
 "nbformat": 4,
 "nbformat_minor": 4
}
