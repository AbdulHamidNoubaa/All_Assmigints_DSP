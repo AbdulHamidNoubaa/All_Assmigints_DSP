{
 "cells": [
  {
   "cell_type": "markdown",
   "metadata": {},
   "source": [
    "# The Frist Question\n",
    "## Area Rectenqle"
   ]
  },
  {
   "cell_type": "code",
   "execution_count": 3,
   "metadata": {},
   "outputs": [
    {
     "name": "stdout",
     "output_type": "stream",
     "text": [
      "Enter Height13\n",
      "Enter TheBase5\n",
      "32.5\n"
     ]
    }
   ],
   "source": [
    "l = int(input(\"Enter Height \"))\n",
    "q = int(input(\"Enter TheBase \"))\n",
    "area = 0.5*(l*q)\n",
    "print(area)"
   ]
  },
  {
   "cell_type": "markdown",
   "metadata": {},
   "source": [
    "# The Secound Question\n",
    "## conver Celsius To Fahrenheit "
   ]
  },
  {
   "cell_type": "code",
   "execution_count": 8,
   "metadata": {},
   "outputs": [
    {
     "name": "stdout",
     "output_type": "stream",
     "text": [
      "Enter Celsius 37.5\n",
      "Fahrenheit 99.5\n"
     ]
    }
   ],
   "source": [
    "cel = float(input(\"Enter Celsius \"))\n",
    "F = (cel * 9 / 5) + 32\n",
    "print(f'Fahrenheit {F}')"
   ]
  },
  {
   "cell_type": "markdown",
   "metadata": {},
   "source": [
    "# The Thired Question\n",
    "## Simple Calc"
   ]
  },
  {
   "cell_type": "code",
   "execution_count": 3,
   "metadata": {},
   "outputs": [
    {
     "name": "stdout",
     "output_type": "stream",
     "text": [
      "Enter The Number X 4\n",
      "Enter The Number Y 2\n",
      "Enter Transction /\n",
      "2\n"
     ]
    }
   ],
   "source": [
    "\n",
    "def add(x,y):\n",
    "    return x + y\n",
    "\n",
    "def sub(x,y):\n",
    "    return x - y\n",
    "\n",
    "def mul(x,y):\n",
    "    return x * y\n",
    "\n",
    "def div(x,y):\n",
    "    return x / y\n",
    "\n",
    "x = int(input(\"Enter The Number X \"))\n",
    "y = int(input(\"Enter The Number Y \"))\n",
    "c = input(\"Enter Transction \")\n",
    "\n",
    "if c == '+':\n",
    "    c = add(x,y)\n",
    "    print(c)\n",
    "    \n",
    "elif c == \"-\":\n",
    "    c = sub(x,y)\n",
    "    print(c)\n",
    "    \n",
    "elif c == \"*\":\n",
    "    c = mul(x,y)\n",
    "    print(c)\n",
    "    \n",
    "elif c == \"/\":\n",
    "    if y == 0:\n",
    "        print(\"error div by zero\")\n",
    "    else: \n",
    "        c = sub(x,y)\n",
    "        print(c)"
   ]
  },
  {
   "cell_type": "markdown",
   "metadata": {},
   "source": [
    "# The four Question\n",
    "## Check if a Number is Positive, Negative or 0"
   ]
  },
  {
   "cell_type": "code",
   "execution_count": 5,
   "metadata": {},
   "outputs": [
    {
     "name": "stdout",
     "output_type": "stream",
     "text": [
      "Enter The Number -4\n",
      "Negative\n"
     ]
    }
   ],
   "source": [
    "num = float(input(\"Enter The Number \"))\n",
    "if num > 0:\n",
    "    print(\"Postive\")\n",
    "elif num < 0:\n",
    "    print(\"Negative\")\n",
    "elif num == 0:\n",
    "    print(\"Zero\")"
   ]
  },
  {
   "cell_type": "markdown",
   "metadata": {},
   "source": [
    "# The five Question\n",
    "## Check Leap Year"
   ]
  },
  {
   "cell_type": "code",
   "execution_count": 10,
   "metadata": {},
   "outputs": [
    {
     "name": "stdout",
     "output_type": "stream",
     "text": [
      "Enter The Year 2000\n",
      "Leap Year\n"
     ]
    }
   ],
   "source": [
    "year = int(input(\"Enter The Year \"))\n",
    "\n",
    "if year % 4 == 0:\n",
    "    print(\"Leap Year\")\n",
    "else:\n",
    "    print(\"not leap Year\")"
   ]
  },
  {
   "cell_type": "code",
   "execution_count": null,
   "metadata": {},
   "outputs": [],
   "source": []
  }
 ],
 "metadata": {
  "kernelspec": {
   "display_name": "Python 3",
   "language": "python",
   "name": "python3"
  },
  "language_info": {
   "codemirror_mode": {
    "name": "ipython",
    "version": 3
   },
   "file_extension": ".py",
   "mimetype": "text/x-python",
   "name": "python",
   "nbconvert_exporter": "python",
   "pygments_lexer": "ipython3",
   "version": "3.7.6"
  }
 },
 "nbformat": 4,
 "nbformat_minor": 4
}
